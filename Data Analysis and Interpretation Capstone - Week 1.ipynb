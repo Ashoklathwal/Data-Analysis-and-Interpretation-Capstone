{
 "cells": [
  {
   "cell_type": "markdown",
   "metadata": {},
   "source": [
    "# Predicting the Working Status (functional or not) of Pumps at Waterpoints"
   ]
  },
  {
   "cell_type": "markdown",
   "metadata": {},
   "source": [
    "## Introduction to the Research Question"
   ]
  },
  {
   "cell_type": "markdown",
   "metadata": {},
   "source": [
    "<p>For some communities in Africa, having a secured access to fresh water is not a given. The number of waterpoints available to these communities is limited, and making sure that the pumps at these waterpoints are functional is critical.</p>\n",
    "<p>The goal of this study is to find an algorithm to identify, or predict, which pumps are likely to be broken. This information is invaluable in order to improve maintenance operations and ensure continuous access to the water.</p>\n",
    "<p>The data set that I will be using for this study is provided by\n",
    "<a href=\"http://taarifa.org/\">Taarifa</a> and the <a href=\"http://maji.go.tz/\">Tanzanian Ministry of Water</a>. In order to be able to predict if a pump at a waterpoint is functional or not, I will need to identify the explanatory variables in the data set that are the most correlated with our response variable which is the pump working status. Some of the predictors that can be envisaged to be useful to predict the working status of a pump are the contruction year, how the waterpoint is managed, the waterpoint location, and many others.</p>"
   ]
  }
 ],
 "metadata": {
  "kernelspec": {
   "display_name": "Python 3",
   "language": "python",
   "name": "python3"
  },
  "language_info": {
   "codemirror_mode": {
    "name": "ipython",
    "version": 3
   },
   "file_extension": ".py",
   "mimetype": "text/x-python",
   "name": "python",
   "nbconvert_exporter": "python",
   "pygments_lexer": "ipython3",
   "version": "3.5.1"
  }
 },
 "nbformat": 4,
 "nbformat_minor": 0
}
