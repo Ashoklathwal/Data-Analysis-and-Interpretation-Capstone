{
 "cells": [
  {
   "cell_type": "markdown",
   "metadata": {},
   "source": [
    "# Predicting the Working Status (functional or not) of Pumps at Waterpoints in Tanzania"
   ]
  },
  {
   "cell_type": "markdown",
   "metadata": {},
   "source": [
    "## Introduction to the Research Question"
   ]
  },
  {
   "cell_type": "markdown",
   "metadata": {},
   "source": [
    "<p>For some communities in Africa, and here more specifically in Tanzania, having a secured access to fresh water is not a given. The number of waterpoints available to these communities is limited, and making sure that the pumps at these waterpoints are functional is critical.</p>\n",
    "<p>The goal of this study is to find an algorithm to identify, or predict, which pumps are likely to be broken. This information is invaluable in order to improve maintenance operations and ensure continuous access to the water.</p>\n",
    "<p>The data set that I will be using for this study is provided by\n",
    "<a href=\"http://taarifa.org/\">Taarifa</a> and the <a href=\"http://maji.go.tz/\">Tanzanian Ministry of Water</a>. In order to be able to predict if a pump at a waterpoint is functional or not, I will need to identify the explanatory variables in the data set that are the most correlated with our response variable which is the pump working status. Some of the predictors that can be envisaged to be useful to predict the working status of a pump are the contruction year, how the waterpoint is managed, the waterpoint location, and many others.</p>"
   ]
  },
  {
   "cell_type": "markdown",
   "metadata": {},
   "source": [
    "## Method"
   ]
  },
  {
   "cell_type": "markdown",
   "metadata": {},
   "source": [
    "### Sample\n",
    "\n",
    "Taarifa is an open source platform for the crowd sourced reporting and triaging of infrastructure related issues.\n",
    "The sample data used comes from the Taarifa waterpoint dashboard, which aggregates data from the Tanzania Ministry of Water. Therefore the data set only contains data for Tanzanian waterpoints.\n",
    "\n",
    "The data provides information on what kind of pump is operating, when it was installed, how it is managed, and other vatiables that can be used to predict the status of pumps at waterpoints. The full data available will be used for this study (sample size: 59400). However some of the variables will not be used if they are not correlated to the response variable."
   ]
  },
  {
   "cell_type": "code",
   "execution_count": 2,
   "metadata": {
    "collapsed": false,
    "scrolled": true
   },
   "outputs": [
    {
     "name": "stdout",
     "output_type": "stream",
     "text": [
      "Number of observations in full data set: 59400\n"
     ]
    }
   ],
   "source": [
    "import pandas\n",
    "\n",
    "trainingData = pandas.read_csv(\"Training Set Values.csv\")\n",
    "#Display the number of observations in the full data set\n",
    "numberOfObservations = len(trainingData)\n",
    "print(\"Number of observations in full data set: \" + str(numberOfObservations))"
   ]
  },
  {
   "cell_type": "markdown",
   "metadata": {},
   "source": [
    "Add number of variables.  \n",
    "Add the type of varibales (categorical/quantitative).  \n",
    "Describe response variable and the values it can take.\n",
    "\n",
    "\n",
    "The sample contains the following x variables:\n",
    "<table>\n",
    "    <tr>\n",
    "        <th>Variable</th>\n",
    "        <th>Type</th>\n",
    "        <th>Description</th>\n",
    "    </tr>\n",
    "    <tr>\n",
    "        <td>amount_tsh</td>\n",
    "        <td></td>\n",
    "        <td>Total static head (amount water available to waterpoint)</td>\n",
    "    </tr>\n",
    "    <tr>\n",
    "        <td>date_recorded</td>\n",
    "        <td></td>\n",
    "        <td>The date the row was entered</td>\n",
    "    </tr>\n",
    "    <tr>\n",
    "        <td>funder</td>\n",
    "        <td></td>\n",
    "        <td>Who funded the well</td>\n",
    "    </tr>\n",
    "    <tr>\n",
    "        <td>gps_height</td>\n",
    "        <td></td>\n",
    "        <td>Altitude of the well</td>\n",
    "    </tr>\n",
    "    <tr>\n",
    "        <td>installer</td>\n",
    "        <td></td>\n",
    "        <td>Organization that installed the well</td>\n",
    "    </tr>\n",
    "    <tr>\n",
    "        <td>longitude</td>\n",
    "        <td></td>\n",
    "        <td>GPS coordinate</td>\n",
    "    </tr>\n",
    "    <tr>\n",
    "        <td>latitude</td>\n",
    "        <td></td>\n",
    "        <td>GPS coordinate</td>\n",
    "    </tr>\n",
    "    <tr>\n",
    "        <td>wpt_name</td>\n",
    "        <td></td>\n",
    "        <td>Name of the waterpoint if there is one</td>\n",
    "    </tr>\n",
    "    <tr>\n",
    "        <td>num_private</td>\n",
    "        <td></td>\n",
    "        <td></td>\n",
    "    </tr>\n",
    "    <tr>\n",
    "        <td>basin</td>\n",
    "        <td></td>\n",
    "        <td>Geographic water basin</td>\n",
    "    </tr>\n",
    "    <tr>\n",
    "        <td>subvillage</td>\n",
    "        <td></td>\n",
    "        <td>Geographic location</td>\n",
    "    </tr>\n",
    "    <tr>\n",
    "        <td>region</td>\n",
    "        <td></td>\n",
    "        <td>Geographic location</td>\n",
    "    </tr>\n",
    "    <tr>\n",
    "        <td>region_code</td>\n",
    "        <td></td>\n",
    "        <td>Geographic location (coded)</td>\n",
    "    </tr>\n",
    "    <tr>\n",
    "        <td>district_code</td>\n",
    "        <td></td>\n",
    "        <td>Geographic location (coded)</td>\n",
    "    </tr>\n",
    "    <tr>\n",
    "        <td>lga</td>\n",
    "        <td></td>\n",
    "        <td>Geographic location</td>\n",
    "    </tr>\n",
    "    <tr>\n",
    "        <td>ward</td>\n",
    "        <td></td>\n",
    "        <td>Geographic location</td>\n",
    "    </tr>\n",
    "    <tr>\n",
    "        <td>population</td>\n",
    "        <td></td>\n",
    "        <td>Population around the well</td>\n",
    "    </tr>\n",
    "    <tr>\n",
    "        <td>public_meeting</td>\n",
    "        <td></td>\n",
    "        <td>True/False</td>\n",
    "    </tr>\n",
    "    <tr>\n",
    "        <td>recorded_by</td>\n",
    "        <td></td>\n",
    "        <td>Group entering this row of data</td>\n",
    "    </tr>\n",
    "    <tr>\n",
    "        <td>scheme_management</td>\n",
    "        <td></td>\n",
    "        <td>Who operates the waterpoint</td>\n",
    "    </tr>\n",
    "    <tr>\n",
    "        <td>scheme_name</td>\n",
    "        <td></td>\n",
    "        <td>Who operates the waterpoint</td>\n",
    "    </tr>\n",
    "    <tr>\n",
    "        <td>permit</td>\n",
    "        <td></td>\n",
    "        <td>If the waterpoint is permitted</td>\n",
    "    </tr>\n",
    "    <tr>\n",
    "        <td>construction_year</td>\n",
    "        <td></td>\n",
    "        <td>Year the waterpoint was constructed</td>\n",
    "    </tr>\n",
    "    <tr>\n",
    "        <td>extraction_type</td>\n",
    "        <td></td>\n",
    "        <td>The kind of extraction the waterpoint uses</td>\n",
    "    </tr>\n",
    "    <tr>\n",
    "        <td>extraction_type_group</td>\n",
    "        <td></td>\n",
    "        <td>The kind of extraction the waterpoint uses</td>\n",
    "    </tr>\n",
    "    <tr>\n",
    "        <td>extraction_type_class</td>\n",
    "        <td></td>\n",
    "        <td>The kind of extraction the waterpoint uses</td>\n",
    "    </tr>\n",
    "    <tr>\n",
    "        <td>management</td>\n",
    "        <td></td>\n",
    "        <td>How the waterpoint is managed</td>\n",
    "    </tr>\n",
    "    <tr>\n",
    "        <td>management_group</td>\n",
    "        <td></td>\n",
    "        <td>How the waterpoint is managed</td>\n",
    "    </tr>\n",
    "    <tr>\n",
    "        <td>payment</td>\n",
    "        <td></td>\n",
    "        <td>What the water costs</td>\n",
    "    </tr>\n",
    "    <tr>\n",
    "        <td>payment_type</td>\n",
    "        <td></td>\n",
    "        <td>What the water costs</td>\n",
    "    </tr>\n",
    "    <tr>\n",
    "        <td>water_quality</td>\n",
    "        <td></td>\n",
    "        <td>The quality of the water</td>\n",
    "    </tr>\n",
    "    <tr>\n",
    "        <td>quality_group</td>\n",
    "        <td></td>\n",
    "        <td>The quality of the water</td>\n",
    "    </tr>\n",
    "    <tr>\n",
    "        <td>quantity</td>\n",
    "        <td></td>\n",
    "        <td>The quantity of water</td>\n",
    "    </tr>\n",
    "    <tr>\n",
    "        <td>quantity_group</td>\n",
    "        <td></td>\n",
    "        <td>The quantity of water</td>\n",
    "    </tr>\n",
    "    <tr>\n",
    "        <td>source</td>\n",
    "        <td></td>\n",
    "        <td>The source of the water</td>\n",
    "    </tr>\n",
    "    <tr>\n",
    "        <td>source_type</td>\n",
    "        <td></td>\n",
    "        <td>The source of the water</td>\n",
    "    </tr>\n",
    "    <tr>\n",
    "        <td>source_class</td>\n",
    "        <td></td>\n",
    "        <td>The source of the water</td>\n",
    "    </tr>\n",
    "    <tr>\n",
    "        <td>waterpoint_type</td>\n",
    "        <td></td>\n",
    "        <td>The kind of waterpoint</td>\n",
    "    </tr>\n",
    "    <tr>\n",
    "        <td>waterpoint_type_group</td>\n",
    "        <td></td>\n",
    "        <td>The kind of waterpoint</td>\n",
    "    </tr>\n",
    " </table> \n",
    " \n"
   ]
  },
  {
   "cell_type": "markdown",
   "metadata": {},
   "source": [
    "### Measures\n",
    "<p>After looking at the data dictionary some of the variables seem like good candidates (type of pump, water quality...) to predict if a pump is working, need repair, or is not even working.</p>\n",
    "<p>The variable chosen are:</p>\n",
    "* **funder** - Who funded the well\n",
    "* **installer** - Organization that installed the well\n",
    "* **basin** - Geographic water basin\n",
    "* **region** - Geographic location\n",
    "* **population** - Population around the well\n",
    "* **public_meeting** - Indicates if the pump is in a public place :True/False\n",
    "* **scheme_management** - Who operates the waterpoint\n",
    "* **construction_year** - Year the waterpoint was constructed\n",
    "* **extraction_type** - The kind of extraction the waterpoint uses\n",
    "* **extraction_type_group** - The kind of extraction the waterpoint uses\n",
    "* **extraction_type_class** - The kind of extraction the waterpoint uses\n",
    "* **management** - How the waterpoint is managed\n",
    "* **management_group** - How the waterpoint is managed\n",
    "* **water_quality** - The quality of the water\n",
    "* **source** - The source of the water\n",
    "* **waterpoint_type** - The kind of waterpoint\n",
    "* **waterpoint_type_group** - The kind of waterpoint\n"
   ]
  },
  {
   "cell_type": "markdown",
   "metadata": {},
   "source": [
    "The data is provided in two data sets: \"Training Set Values.csv\" and \"Training Set Labels.csv\" that contains the response variable status_group."
   ]
  },
  {
   "cell_type": "code",
   "execution_count": 3,
   "metadata": {
    "collapsed": false
   },
   "outputs": [
    {
     "name": "stdout",
     "output_type": "stream",
     "text": [
      "Number of observations in Training Set Labels.csv: 59400\n"
     ]
    }
   ],
   "source": [
    "responseData = pandas.read_csv(\"Training Set Labels.csv\")\n",
    "print(\"Number of observations in Training Set Labels.csv: \" +\n",
    "      str(len(responseData)))"
   ]
  },
  {
   "cell_type": "markdown",
   "metadata": {},
   "source": [
    "The response variable status_group is a categorical variable that can take the values: \n",
    "* functional - the waterpoint is operational and there are no repairs needed\n",
    "* functional needs repair - the waterpoint is operational, but needs repairs\n",
    "* non functional - the waterpoint is not operational"
   ]
  },
  {
   "cell_type": "markdown",
   "metadata": {},
   "source": [
    "In order to perform some of the analysis, the two data set needs to be joined. This can be done using the id variable available in both data sets."
   ]
  },
  {
   "cell_type": "code",
   "execution_count": 4,
   "metadata": {
    "collapsed": false
   },
   "outputs": [
    {
     "name": "stdout",
     "output_type": "stream",
     "text": [
      "59400\n"
     ]
    }
   ],
   "source": [
    "myData = trainingData.merge(responseData, on='id', how='outer')\n",
    "print(len(myData))"
   ]
  },
  {
   "cell_type": "markdown",
   "metadata": {},
   "source": [
    "The distribution of status_group is (%):"
   ]
  },
  {
   "cell_type": "code",
   "execution_count": 5,
   "metadata": {
    "collapsed": false
   },
   "outputs": [
    {
     "name": "stdout",
     "output_type": "stream",
     "text": [
      "functional                 54.308081\n",
      "non functional             38.424242\n",
      "functional needs repair     7.267677\n",
      "Name: status_group, dtype: float64\n"
     ]
    }
   ],
   "source": [
    "print(myData['status_group'].value_counts(sort=False, normalize=True)*100)"
   ]
  },
  {
   "cell_type": "markdown",
   "metadata": {},
   "source": [
    "Only 54.3% of the pumps do not need any kind a repair."
   ]
  },
  {
   "cell_type": "markdown",
   "metadata": {},
   "source": [
    "### Analysis\n",
    "<p>The first step of the analysis will be to check if the explanatory variable chosen are associated with the response variable.</p>\n",
    "<p>The response variable is categorical, therefore we will use:</p>\n",
    "* Chi Square test of independance if the explanatory variable is categorical\n",
    "* Chi Square test of independance if the explanatory variable is quantitavice, but the explanatory variable will need to be categorized first\n",
    "\n",
    "<p>The null hypothesis for a chi-square test of independance is that there is no relationship between tge two categorical variables (they are independant). The alternate hypothesis is that there is a relationaship between the two categorical variables (they are not independant).</p>\n",
    "\n",
    "In this data set there are many explanatory variables that are correlated with the functioning status of a pump, trying to build a linear model will not work. This is why it is necassary to employ machine learning technics.  \n",
    "As I have already identified the variables that I want to include in the model, I have chosen a supervised model, the decision tree. The response variable is categorical, so the model is called a classification tree."
   ]
  },
  {
   "cell_type": "markdown",
   "metadata": {},
   "source": [
    "## Results"
   ]
  },
  {
   "cell_type": "markdown",
   "metadata": {},
   "source": [
    "### Descriptives and Bi-variate"
   ]
  },
  {
   "cell_type": "markdown",
   "metadata": {},
   "source": [
    "##### Public Meeting Place \n",
    "\n",
    "<p>I will start by testing the public meeting place responce variable.</p>"
   ]
  },
  {
   "cell_type": "code",
   "execution_count": 6,
   "metadata": {
    "collapsed": false
   },
   "outputs": [
    {
     "name": "stdout",
     "output_type": "stream",
     "text": [
      "False     8.510101\n",
      "True     85.877104\n",
      "Name: public_meeting, dtype: float64\n"
     ]
    }
   ],
   "source": [
    "print(myData['public_meeting'].value_counts(sort=False, normalize=True)*100)"
   ]
  },
  {
   "cell_type": "markdown",
   "metadata": {},
   "source": [
    "85% of the pumps are in a public place."
   ]
  },
  {
   "cell_type": "code",
   "execution_count": 7,
   "metadata": {
    "collapsed": false
   },
   "outputs": [
    {
     "name": "stdout",
     "output_type": "stream",
     "text": [
      "status_group    functional  functional needs repair  non functional\n",
      "public_meeting                                                     \n",
      "False            42.987141                 8.743818       48.269041\n",
      "True             55.689949                 7.290584       37.019466\n",
      "status_group    functional  functional needs repair  non functional\n",
      "public_meeting                                                     \n",
      "False                 2173                      442            2440\n",
      "True                 28408                     3719           18884\n"
     ]
    }
   ],
   "source": [
    "ct_public_meeting = pandas.crosstab(myData['public_meeting'],\n",
    "                                    myData['status_group'])\n",
    "print(ct_public_meeting.apply(lambda r: r*100/r.sum(), axis=1))\n",
    "print(ct_public_meeting)"
   ]
  },
  {
   "cell_type": "markdown",
   "metadata": {},
   "source": [
    "It shows that when the pump is at a public meeting place, 55.6% of the pumps are properly functioning, when only 42.9% are fully functioning when not a public meeting place.\n",
    "Next I run a Chi Square test of independance to validate if the variables are correlated (the chsi-square value, p value and expected counts are displayed)."
   ]
  },
  {
   "cell_type": "code",
   "execution_count": 8,
   "metadata": {
    "collapsed": false,
    "scrolled": true
   },
   "outputs": [
    {
     "name": "stdout",
     "output_type": "stream",
     "text": [
      "(302.18246204959723, 2.4094177307380953e-66, 2, array([[  2757.23174473,    375.16239789,   1922.60585738],\n",
      "       [ 27823.76825527,   3785.83760211,  19401.39414262]]))\n"
     ]
    }
   ],
   "source": [
    "import scipy.stats\n",
    "\n",
    "cs_public_meeting = scipy.stats.chi2_contingency(ct_public_meeting)\n",
    "print (cs_public_meeting)"
   ]
  },
  {
   "cell_type": "markdown",
   "metadata": {},
   "source": [
    "The chi value is large (302) and the p value (2.4e-66) is very small, which confirms that we can reject the null hypothesys and the working status of a pump is correlated with the pump being in a public place or not. No post hoc tests are needed as the explanantory variable has only two categories. "
   ]
  },
  {
   "cell_type": "markdown",
   "metadata": {},
   "source": [
    "##### Source"
   ]
  },
  {
   "cell_type": "code",
   "execution_count": 9,
   "metadata": {
    "collapsed": false
   },
   "outputs": [
    {
     "name": "stdout",
     "output_type": "stream",
     "text": [
      "rainwater harvesting     3.863636\n",
      "dam                      1.104377\n",
      "hand dtw                 1.471380\n",
      "spring                  28.654882\n",
      "lake                     1.287879\n",
      "unknown                  0.111111\n",
      "river                   16.181818\n",
      "machine dbh             18.644781\n",
      "other                    0.356902\n",
      "shallow well            28.323232\n",
      "Name: source, dtype: float64\n"
     ]
    }
   ],
   "source": [
    "print(myData['source'].value_counts(sort=False, normalize=True)*100)"
   ]
  },
  {
   "cell_type": "markdown",
   "metadata": {},
   "source": [
    "To be able to perfrm some of the analyses of this study, I need to convert the strings used in this categorical variable in integer."
   ]
  },
  {
   "cell_type": "code",
   "execution_count": 10,
   "metadata": {
    "collapsed": false
   },
   "outputs": [
    {
     "name": "stdout",
     "output_type": "stream",
     "text": [
      "0     3.863636\n",
      "1    28.654882\n",
      "2     1.287879\n",
      "3    28.323232\n",
      "4     0.111111\n",
      "5     1.471380\n",
      "6     0.356902\n",
      "7    16.181818\n",
      "8     1.104377\n",
      "9    18.644781\n",
      "Name: source_c, dtype: float64\n"
     ]
    }
   ],
   "source": [
    "source_map = {'rainwater harvesting':0,'spring':1,'lake':2,\n",
    "              'shallow well':3,'unknown':4,'hand dtw':5,\n",
    "              'other':6,'river':7,'dam':8,'machine dbh':9\n",
    "             }\n",
    "myData['source_c'] = myData['source'].map(source_map)\n",
    "print(myData['source_c'].value_counts(sort=False, normalize=True)*100)"
   ]
  },
  {
   "cell_type": "code",
   "execution_count": 11,
   "metadata": {
    "collapsed": false
   },
   "outputs": [
    {
     "name": "stdout",
     "output_type": "stream",
     "text": [
      "status_group          functional  functional needs repair  non functional\n",
      "source                                                                   \n",
      "dam                    38.567073                 3.658537       57.774390\n",
      "hand dtw               56.864989                 1.945080       41.189931\n",
      "lake                   21.176471                 1.568627       77.254902\n",
      "machine dbh            48.957111                 4.433409       46.609481\n",
      "other                  59.433962                 0.471698       40.094340\n",
      "rainwater harvesting   60.392157                13.681917       25.925926\n",
      "river                  56.856013                12.702871       30.441115\n",
      "shallow well           49.476938                 5.688302       44.834760\n",
      "spring                 62.229011                 7.496622       30.274367\n",
      "unknown                48.484848                 6.060606       45.454545\n"
     ]
    }
   ],
   "source": [
    "ct_source = pandas.crosstab(myData['source'], myData['status_group'])\n",
    "print(ct_source.apply(lambda r: r*100/r.sum(), axis=1))\n",
    "#print(ct_source)"
   ]
  },
  {
   "cell_type": "code",
   "execution_count": 12,
   "metadata": {
    "collapsed": false
   },
   "outputs": [
    {
     "name": "stdout",
     "output_type": "stream",
     "text": [
      "(2623.9982801502629, 0.0, 18, array([[  3.56261010e+02,   4.76759596e+01,   2.52063030e+02],\n",
      "       [  4.74652626e+02,   6.35194949e+01,   3.35827879e+02],\n",
      "       [  4.15456818e+02,   5.55977273e+01,   2.93945455e+02],\n",
      "       [  6.01461995e+03,   8.04895202e+02,   4.25548485e+03],\n",
      "       [  1.15133131e+02,   1.54074747e+01,   8.14593939e+01],\n",
      "       [  1.24637045e+03,   1.66793182e+02,   8.81836364e+02],\n",
      "       [  5.22009273e+03,   6.98569091e+02,   3.69333818e+03],\n",
      "       [  9.13679152e+03,   1.22271394e+03,   6.46449455e+03],\n",
      "       [  9.24377843e+03,   1.23703126e+03,   6.54019030e+03],\n",
      "       [  3.58433333e+01,   4.79666667e+00,   2.53600000e+01]]))\n"
     ]
    }
   ],
   "source": [
    "cs_source = scipy.stats.chi2_contingency(ct_source)\n",
    "print (cs_source)"
   ]
  },
  {
   "cell_type": "markdown",
   "metadata": {},
   "source": [
    "The chi value is large (2623) and the p value (0.0) is very small, which confirms that we can reject the null hypothesys and the working status of a pump is correlated with the source of the water.  \n",
    "The explanatory variable has more than two values, so a post hoc test is required to identify which categories...\n",
    "Bonferroni adjustement:"
   ]
  },
  {
   "cell_type": "markdown",
   "metadata": {},
   "source": [
    "##### Permit"
   ]
  },
  {
   "cell_type": "code",
   "execution_count": 13,
   "metadata": {
    "collapsed": false
   },
   "outputs": [
    {
     "name": "stdout",
     "output_type": "stream",
     "text": [
      "False    29.447811\n",
      "True     65.407407\n",
      "Name: permit, dtype: float64\n",
      "status_group  functional  functional needs repair  non functional\n",
      "permit                                                           \n",
      "False          51.709353                 7.546307       40.744340\n",
      "True           55.443735                 6.941728       37.614537\n",
      "(67.790140875342928, 1.9035221956985326e-15, 2, array([[  9495.42652279,   1247.07802073,   6749.49545648],\n",
      "       [ 21090.57347721,   2769.92197927,  14991.50454352]]))\n"
     ]
    }
   ],
   "source": [
    "print(myData['permit'].value_counts(sort=False, normalize=True)*100)\n",
    "ct_permit = pandas.crosstab(myData['permit'], myData['status_group'])\n",
    "print(ct_permit.apply(lambda r: r*100/r.sum(), axis=1))\n",
    "cs_permit = scipy.stats.chi2_contingency(ct_permit)\n",
    "print (cs_permit)"
   ]
  },
  {
   "cell_type": "markdown",
   "metadata": {},
   "source": [
    "##### Construction year - Age\n",
    "The date_recorded variable gives us the date at which the row (data) was recorded. The construction_year variable gives the year at which the waterpoint was constructed, but not the exact date. Therefore the age of the water point is approximated to: year(date_recorded) - construction_year."
   ]
  },
  {
   "cell_type": "code",
   "execution_count": 14,
   "metadata": {
    "collapsed": false
   },
   "outputs": [
    {
     "data": {
      "text/plain": [
       "0     0.989899\n",
       "1     3.877104\n",
       "2     3.584175\n",
       "3     4.612795\n",
       "4     3.181818\n",
       "5     3.333333\n",
       "6     2.324916\n",
       "7     2.363636\n",
       "8     1.952862\n",
       "9     1.370370\n",
       "10    1.461279\n",
       "11    2.276094\n",
       "12    0.941077\n",
       "13    3.146465\n",
       "14    1.952862\n",
       "15    1.671717\n",
       "16    1.390572\n",
       "17    1.070707\n",
       "18    1.269360\n",
       "19    1.289562\n",
       "20    0.910774\n",
       "21    0.973064\n",
       "22    0.543771\n",
       "23    1.523569\n",
       "24    0.439394\n",
       "25    0.981481\n",
       "26    0.991582\n",
       "27    1.282828\n",
       "28    1.193603\n",
       "29    0.949495\n",
       "30    0.604377\n",
       "31    1.193603\n",
       "32    0.292929\n",
       "33    1.885522\n",
       "34    0.309764\n",
       "35    1.089226\n",
       "36    0.547138\n",
       "37    1.010101\n",
       "38    0.590909\n",
       "39    1.011785\n",
       "40    0.392256\n",
       "41    0.821549\n",
       "42    0.151515\n",
       "43    0.599327\n",
       "44    0.079125\n",
       "45    0.111111\n",
       "46    0.080808\n",
       "47    0.023569\n",
       "48    0.069024\n",
       "49    0.042088\n",
       "50    0.141414\n",
       "51    0.052189\n",
       "52    0.018519\n",
       "53    0.153199\n",
       "Name: waterpoint_age, dtype: float64"
      ]
     },
     "execution_count": 14,
     "metadata": {},
     "output_type": "execute_result"
    }
   ],
   "source": [
    "import math\n",
    "#Create scondary variable age.\n",
    "def getAge (row):\n",
    "    if math.isnan(row['construction_year']) or (row['construction_year'] == 0):\n",
    "        return math.nan\n",
    "    age = int(row['date_recorded'][:4]) - int(row['construction_year'])\n",
    "    if (age >= 0):\n",
    "        return age\n",
    "    else:\n",
    "        return math.nan\n",
    "\n",
    "myData['waterpoint_age'] = myData.apply (lambda row: getAge(row),axis=1)\n",
    "myData['waterpoint_age'].value_counts(sort=False, normalize=True)*100"
   ]
  },
  {
   "cell_type": "markdown",
   "metadata": {},
   "source": [
    "To perform a chi-square test of independance, the explanatory variable needs to be a categorical variable. I decided to fold the waterpoint_age variable in 4 groups: < 5 years, 5-10 years, 10 to 20 years, 20-30 years, 30+.\n"
   ]
  },
  {
   "cell_type": "code",
   "execution_count": 15,
   "metadata": {
    "collapsed": false
   },
   "outputs": [
    {
     "name": "stdout",
     "output_type": "stream",
     "text": [
      "Group -5       18.589226\n",
      "Group 6-10      9.473064\n",
      "Group 11-20    15.919192\n",
      "Group 12-30     9.483165\n",
      "group 30+      10.666667\n",
      "dtype: float64\n"
     ]
    }
   ],
   "source": [
    "#Let's create a secondary variable that will contain age groupings\n",
    "myData[\"waterpoint_age_c\"] = pandas.cut(\n",
    "    myData.waterpoint_age,[0, 5, 10, 20, 30, 99],\n",
    "             labels=[\"Group -5\",\"Group 6-10\",\"Group 11-20\",\n",
    "                     \"Group 12-30\", \"group 30+\"])\n",
    "print(myData['waterpoint_age_c'].value_counts(sort=False, normalize=True)*100)"
   ]
  },
  {
   "cell_type": "code",
   "execution_count": 16,
   "metadata": {
    "collapsed": false
   },
   "outputs": [
    {
     "name": "stdout",
     "output_type": "stream",
     "text": [
      "status_group      functional  functional needs repair  non functional\n",
      "waterpoint_age_c                                                     \n",
      "Group -5           71.599348                 4.673066       23.727586\n",
      "Group 6-10         61.275991                 8.157100       30.566910\n",
      "Group 11-20        57.614213                 6.694162       35.691624\n",
      "Group 12-30        44.274809                 7.385052       48.340138\n",
      "group 30+          31.423611                 7.780934       60.795455\n",
      "(3169.8051407479829, 0.0, 8, array([[ 6170.29070195,   729.58245393,  4142.12684412],\n",
      "       [ 3144.37835355,   371.79500709,  2110.82663937],\n",
      "       [ 5284.030871  ,   624.79004568,  3547.17908332],\n",
      "       [ 3147.73116501,   372.19144747,  2113.07738752],\n",
      "       [ 3540.56890849,   418.64104583,  2376.79004568]]))\n"
     ]
    }
   ],
   "source": [
    "ct_construction_year = pandas.crosstab(\n",
    "    myData['waterpoint_age_c'], myData['status_group'])\n",
    "print(ct_construction_year.apply(lambda r: r*100/r.sum(), axis=1))\n",
    "cs_construction_year = scipy.stats.chi2_contingency(ct_construction_year)\n",
    "print (cs_construction_year)"
   ]
  },
  {
   "cell_type": "markdown",
   "metadata": {},
   "source": [
    "The crosstab analysis clearly shows that the older the waterpoint is, the less likely it is to be functional, there is a negative relationship. The chi-square anaylis confirms the correlation, the p value is 0.0."
   ]
  },
  {
   "cell_type": "markdown",
   "metadata": {},
   "source": [
    "#### Waterpoint type\n"
   ]
  },
  {
   "cell_type": "code",
   "execution_count": 17,
   "metadata": {
    "collapsed": false
   },
   "outputs": [
    {
     "name": "stdout",
     "output_type": "stream",
     "text": [
      "dam                             0.011785\n",
      "hand pump                      29.441077\n",
      "communal standpipe multiple    10.274411\n",
      "communal standpipe             48.016835\n",
      "other                          10.740741\n",
      "improved spring                 1.319865\n",
      "cattle trough                   0.195286\n",
      "Name: waterpoint_type, dtype: float64\n"
     ]
    }
   ],
   "source": [
    "print(myData['waterpoint_type'].value_counts(sort=False, normalize=True)*100)"
   ]
  },
  {
   "cell_type": "code",
   "execution_count": 18,
   "metadata": {
    "collapsed": false
   },
   "outputs": [
    {
     "name": "stdout",
     "output_type": "stream",
     "text": [
      "status_group                 functional  functional needs repair  \\\n",
      "waterpoint_type                                                    \n",
      "cattle trough                 72.413793                 1.724138   \n",
      "communal standpipe            62.148517                 7.923708   \n",
      "communal standpipe multiple   36.621334                10.617729   \n",
      "dam                           85.714286                 0.000000   \n",
      "hand pump                     61.785224                 5.884035   \n",
      "improved spring               71.811224                10.841837   \n",
      "other                         13.166144                 4.592476   \n",
      "\n",
      "status_group                 non functional  \n",
      "waterpoint_type                              \n",
      "cattle trough                     25.862069  \n",
      "communal standpipe                29.927775  \n",
      "communal standpipe multiple       52.760937  \n",
      "dam                               14.285714  \n",
      "hand pump                         32.330741  \n",
      "improved spring                   17.346939  \n",
      "other                             82.241379  \n",
      "(7450.3165966082934, 0.0, 12, array([[  6.29973737e+01,   8.43050505e+00,   4.45721212e+01],\n",
      "       [  1.54897508e+04,   2.07288677e+03,   1.09593624e+04],\n",
      "       [  3.31442217e+03,   4.43546313e+02,   2.34503152e+03],\n",
      "       [  3.80156566e+00,   5.08737374e-01,   2.68969697e+00],\n",
      "       [  9.49739717e+03,   1.27097131e+03,   6.71963152e+03],\n",
      "       [  4.25775354e+02,   5.69785859e+01,   3.01246061e+02],\n",
      "       [  3.46485556e+03,   4.63677778e+02,   2.45146667e+03]]))\n"
     ]
    }
   ],
   "source": [
    "ct_waterpoint_type = pandas.crosstab(\n",
    "    myData['waterpoint_type'], myData['status_group'])\n",
    "print(ct_waterpoint_type.apply(lambda r: r*100/r.sum(), axis=1))\n",
    "cs_waterpoint_type = scipy.stats.chi2_contingency(ct_waterpoint_type)\n",
    "print (cs_waterpoint_type)"
   ]
  },
  {
   "cell_type": "markdown",
   "metadata": {},
   "source": [
    "To be able to perform some of the analyses of this study, I need to convert the strings used in this categorical variable in integer."
   ]
  },
  {
   "cell_type": "code",
   "execution_count": 19,
   "metadata": {
    "collapsed": false
   },
   "outputs": [
    {
     "name": "stdout",
     "output_type": "stream",
     "text": [
      "0     1.319865\n",
      "1    10.274411\n",
      "2    48.016835\n",
      "3     0.195286\n",
      "4    10.740741\n",
      "5    29.441077\n",
      "6     0.011785\n",
      "Name: waterpoint_type_c, dtype: float64\n"
     ]
    }
   ],
   "source": [
    "waterpoint_type_map = {'improved spring':0,'communal standpipe multiple':1,\n",
    "                       'communal standpipe':2, 'cattle trough':3,\n",
    "                       'other':4,'hand pump':5,'dam':6\n",
    "             }\n",
    "myData['waterpoint_type_c'] = myData['waterpoint_type'].map(waterpoint_type_map)\n",
    "print(myData['waterpoint_type_c'].value_counts(sort=False, normalize=True)*100)"
   ]
  },
  {
   "cell_type": "markdown",
   "metadata": {},
   "source": [
    "### Multivariable\n",
    "\n",
    "The variables set as my predictors are: the source of water, the type of meeting place (public or not), if the waterpoint was authorized, the waterpoint age, and the type of waterpoint.  \n",
    "The data set is spilt into a training and test data sets, with 60% of the observations being used to train the model.\n"
   ]
  },
  {
   "cell_type": "code",
   "execution_count": 20,
   "metadata": {
    "collapsed": false
   },
   "outputs": [],
   "source": [
    "from sklearn.cross_validation import train_test_split\n",
    "from sklearn.tree import DecisionTreeClassifier\n",
    "from sklearn.metrics import classification_report\n",
    "import sklearn.metrics"
   ]
  },
  {
   "cell_type": "code",
   "execution_count": 21,
   "metadata": {
    "collapsed": false
   },
   "outputs": [
    {
     "name": "stdout",
     "output_type": "stream",
     "text": [
      "(12972, 5)\n",
      "(8649, 5)\n",
      "(12972,)\n",
      "(8649,)\n",
      "[[4774   52  490]\n",
      " [ 423  100   99]\n",
      " [1398   77 1236]]\n",
      "0.706440050873\n"
     ]
    }
   ],
   "source": [
    "#drop NA from the data set as decision tree analyses cannot handle any ANs\n",
    "myData_clean = myData.dropna()\n",
    "\n",
    "#Select the predictors that will be used\n",
    "predictors = myData_clean[['source_c','public_meeting',\n",
    "                           'permit','waterpoint_age','waterpoint_type_c']]\n",
    "\n",
    "#Select the target, i.e. our response variable\n",
    "targets = myData_clean.status_group\n",
    "\n",
    "#Create the train and test data sets\n",
    "pred_train, pred_test, tar_train, tar_test = train_test_split(\n",
    "    predictors, targets, test_size=.4)\n",
    "\n",
    "print(pred_train.shape)\n",
    "print(pred_test.shape)\n",
    "print(tar_train.shape)\n",
    "print( tar_test.shape)\n",
    "\n",
    "#Build model on training data\n",
    "classifier=DecisionTreeClassifier()\n",
    "classifier=classifier.fit(pred_train,tar_train)\n",
    "\n",
    "predictions=classifier.predict(pred_test)\n",
    "\n",
    "print(sklearn.metrics.confusion_matrix(tar_test,predictions))\n",
    "print(sklearn.metrics.accuracy_score(tar_test, predictions))"
   ]
  },
  {
   "cell_type": "markdown",
   "metadata": {
    "collapsed": true
   },
   "source": [
    "The analyses shows that once trained, the decision tree is able to predict 70% of the working status of the waterpoints of the test data set.  \n",
    "This is an encouraging result, but that can probably be improved by adding new explanatory variable to the model."
   ]
  }
 ],
 "metadata": {
  "kernelspec": {
   "display_name": "Python 3",
   "language": "python",
   "name": "python3"
  },
  "language_info": {
   "codemirror_mode": {
    "name": "ipython",
    "version": 3
   },
   "file_extension": ".py",
   "mimetype": "text/x-python",
   "name": "python",
   "nbconvert_exporter": "python",
   "pygments_lexer": "ipython3",
   "version": "3.5.1"
  }
 },
 "nbformat": 4,
 "nbformat_minor": 0
}
