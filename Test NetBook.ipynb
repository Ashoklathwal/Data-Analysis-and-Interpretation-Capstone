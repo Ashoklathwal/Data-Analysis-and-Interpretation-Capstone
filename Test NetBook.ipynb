{
 "cells": [
  {
   "cell_type": "markdown",
   "metadata": {},
   "source": [
    "# Week 2 Exercise: bla bla bla"
   ]
  },
  {
   "cell_type": "markdown",
   "metadata": {},
   "source": [
    "We will start by reading the data."
   ]
  },
  {
   "cell_type": "code",
   "execution_count": 1,
   "metadata": {
    "collapsed": false
   },
   "outputs": [
    {
     "name": "stdout",
     "output_type": "stream",
     "text": [
      "File used: nesarc_pds_test.csv\n"
     ]
    }
   ],
   "source": [
    "%matplotlib inline\n",
    "import pandas\n",
    "import numpy\n",
    "from sklearn.cross_validation import train_test_split\n",
    "import sklearn.metrics\n",
    "import matplotlib.pylab as plt\n",
    "from sklearn.ensemble import ExtraTreesClassifier\n",
    "\n",
    "\n",
    "\n",
    "\"\"\"\n",
    "Data Engineering and Analysis\n",
    "\"\"\"\n",
    "#Load the dataset\n",
    "\n",
    "fileName = \"nesarc_pds_test.csv\"\n",
    "\n",
    "data = pandas.read_csv(fileName, low_memory=False)\n",
    "\n",
    "print (\"File used: \" + fileName)"
   ]
  },
  {
   "cell_type": "code",
   "execution_count": 2,
   "metadata": {
    "collapsed": false
   },
   "outputs": [
    {
     "name": "stderr",
     "output_type": "stream",
     "text": [
      "C:\\Users\\Stephane\\Anaconda3\\lib\\site-packages\\ipykernel\\__main__.py:10: SettingWithCopyWarning: \n",
      "A value is trying to be set on a copy of a slice from a DataFrame.\n",
      "Try using .loc[row_indexer,col_indexer] = value instead\n",
      "\n",
      "See the caveats in the documentation: http://pandas.pydata.org/pandas-docs/stable/indexing.html#indexing-view-versus-copy\n",
      "C:\\Users\\Stephane\\Anaconda3\\lib\\site-packages\\ipykernel\\__main__.py:11: SettingWithCopyWarning: \n",
      "A value is trying to be set on a copy of a slice from a DataFrame.\n",
      "Try using .loc[row_indexer,col_indexer] = value instead\n",
      "\n",
      "See the caveats in the documentation: http://pandas.pydata.org/pandas-docs/stable/indexing.html#indexing-view-versus-copy\n",
      "C:\\Users\\Stephane\\Anaconda3\\lib\\site-packages\\ipykernel\\__main__.py:12: SettingWithCopyWarning: \n",
      "A value is trying to be set on a copy of a slice from a DataFrame.\n",
      "Try using .loc[row_indexer,col_indexer] = value instead\n",
      "\n",
      "See the caveats in the documentation: http://pandas.pydata.org/pandas-docs/stable/indexing.html#indexing-view-versus-copy\n"
     ]
    },
    {
     "name": "stdout",
     "output_type": "stream",
     "text": [
      "               SEX      MARITAL        S1Q5B        S1Q6A          S1Q11A  \\\n",
      "count  3236.000000  3236.000000  3236.000000  3236.000000     3236.000000   \n",
      "mean      1.534302     1.043881    24.324166     9.272868    52223.496910   \n",
      "std       0.498899     0.204863     5.494495     2.550513    56460.750464   \n",
      "min       1.000000     1.000000    14.000000     1.000000       26.000000   \n",
      "25%       1.000000     1.000000    20.000000     8.000000    24000.000000   \n",
      "50%       2.000000     1.000000    23.000000     9.000000    41000.000000   \n",
      "75%       2.000000     1.000000    27.000000    11.000000    66225.000000   \n",
      "max       2.000000     2.000000    55.000000    14.000000  1118000.000000   \n",
      "\n",
      "             S1Q1F        S1Q8A        S1Q16  IS_MARRIED  \\\n",
      "count  3236.000000  3236.000000  3236.000000        3236   \n",
      "mean      1.201792     1.283684     2.345797           0   \n",
      "std       0.401400     0.450855     1.147547           0   \n",
      "min       1.000000     1.000000     1.000000           0   \n",
      "25%       1.000000     1.000000     1.000000           0   \n",
      "50%       1.000000     1.000000     2.000000           0   \n",
      "75%       1.000000     2.000000     3.000000           0   \n",
      "max       2.000000     2.000000     5.000000           0   \n",
      "\n",
      "       EARN_MORE_THAN_MEDIAN  \n",
      "count            3236.000000  \n",
      "mean                0.499691  \n",
      "std                 0.500077  \n",
      "min                 0.000000  \n",
      "25%                 0.000000  \n",
      "50%                 0.000000  \n",
      "75%                 1.000000  \n",
      "max                 1.000000  \n"
     ]
    },
    {
     "name": "stderr",
     "output_type": "stream",
     "text": [
      "C:\\Users\\Stephane\\Anaconda3\\lib\\site-packages\\ipykernel\\__main__.py:25: SettingWithCopyWarning: \n",
      "A value is trying to be set on a copy of a slice from a DataFrame.\n",
      "Try using .loc[row_indexer,col_indexer] = value instead\n",
      "\n",
      "See the caveats in the documentation: http://pandas.pydata.org/pandas-docs/stable/indexing.html#indexing-view-versus-copy\n"
     ]
    }
   ],
   "source": [
    "data['S1Q5B'] = pandas.to_numeric(data['S1Q5B'], errors='coerce') #AGE WHEN FIRST CHILD BORN/STARTED LIVING WITH RESPONDENT\n",
    "data['S1Q11A'] = pandas.to_numeric(data['S1Q11A'], errors='coerce') #TOTAL FAMILY INCOME IN LAST 12 MONTHS\n",
    "data['S1Q6A'] = pandas.to_numeric(data['S1Q6A'], errors='coerce') #HIGHEST GRADE OR YEAR OF SCHOOL COMPLETED\n",
    "data['S1Q1F'] = pandas.to_numeric(data['S1Q1F'], errors='coerce')#S1Q1F BORN IN UNITED STATES\n",
    "data['S1Q8A'] = pandas.to_numeric(data['S1Q8A'], errors='coerce')#S1Q8A WORK AT JOB OR BUSINESS IN LAST 12 MONTHS\n",
    "data['S1Q16'] = pandas.to_numeric(data['S1Q16'], errors='coerce')#S1Q16 SELF-PERCEIVED CURRENT HEALTH\n",
    "\n",
    "my_data = data[['SEX','MARITAL','S1Q5B','S1Q6A','S1Q11A','S1Q1F','S1Q8A','S1Q16']]\n",
    "\n",
    "my_data['S1Q5B'] = my_data['S1Q5B'].replace(99,numpy.NaN)\n",
    "my_data['S1Q1F'] = my_data['S1Q1F'].replace(9,numpy.NaN)\n",
    "my_data['S1Q16'] = my_data['S1Q16'].replace(9,numpy.NaN)\n",
    "\n",
    "\n",
    "data_clean = my_data.dropna()\n",
    "\n",
    "#Create scondary variable IS_MARRIED\n",
    "def IS_MARRIED (row):\n",
    "   if row['MARITAL'] == 1 :\n",
    "      return 0\n",
    "   if row['MARITAL'] == 2 :\n",
    "      return 0\n",
    "   else:\n",
    "      return 1\n",
    "data_clean['IS_MARRIED'] = data_clean.apply (lambda row: IS_MARRIED (row),axis=1)\n",
    "\n",
    "#Limit the analysis to people who are married\n",
    "data_clean = data_clean[(data_clean['IS_MARRIED'] == 0)]\n",
    "\n",
    "\n",
    "#Create scondary variable EARN_MORE_THAN_MEDIAN. This will be my response variable\n",
    "S1Q11A_median = data_clean['S1Q11A'].median()\n",
    "def EARN_MORE_THAN_MEDIAN (row):\n",
    "    if row['S1Q11A'] >= S1Q11A_median:\n",
    "        return 0\n",
    "    else:\n",
    "        return 1\n",
    "data_clean['EARN_MORE_THAN_MEDIAN'] = data_clean.apply (lambda row: EARN_MORE_THAN_MEDIAN (row),axis=1)\n",
    "            \n",
    "    \n",
    "print(data_clean.describe())"
   ]
  },
  {
   "cell_type": "code",
   "execution_count": 3,
   "metadata": {
    "collapsed": false
   },
   "outputs": [
    {
     "name": "stdout",
     "output_type": "stream",
     "text": [
      "[[435 187]\n",
      " [231 442]]\n",
      "0.67722007722\n"
     ]
    }
   ],
   "source": [
    "\"\"\"\n",
    "Modeling and Prediction\n",
    "\"\"\"\n",
    "#Split into training and testing sets\n",
    "\n",
    "predictors = data_clean[['SEX','S1Q5B','S1Q6A','S1Q1F','S1Q8A','S1Q16']]\n",
    "\n",
    "targets = data_clean.EARN_MORE_THAN_MEDIAN\n",
    "\n",
    "pred_train, pred_test, tar_train, tar_test  = train_test_split(predictors, targets, test_size=.4)\n",
    "\n",
    "pred_train.shape\n",
    "pred_test.shape\n",
    "tar_train.shape\n",
    "tar_test.shape\n",
    "\n",
    "#Build model on training data\n",
    "from sklearn.ensemble import RandomForestClassifier\n",
    "\n",
    "classifier=RandomForestClassifier(n_estimators=25)\n",
    "classifier=classifier.fit(pred_train,tar_train)\n",
    "\n",
    "predictions=classifier.predict(pred_test)\n",
    "\n",
    "print(sklearn.metrics.confusion_matrix(tar_test,predictions))\n",
    "print(sklearn.metrics.accuracy_score(tar_test, predictions))\n",
    "\n",
    "\n"
   ]
  },
  {
   "cell_type": "code",
   "execution_count": 4,
   "metadata": {
    "collapsed": false
   },
   "outputs": [
    {
     "name": "stdout",
     "output_type": "stream",
     "text": [
      "[ 0.03111899  0.40001431  0.30354008  0.04507855  0.10334029  0.11690778]\n"
     ]
    }
   ],
   "source": [
    "# fit an Extra Trees model to the data\n",
    "model = ExtraTreesClassifier()\n",
    "model.fit(pred_train,tar_train)\n",
    "# display the relative importance of each attribute\n",
    "print(model.feature_importances_)\n",
    "\n"
   ]
  },
  {
   "cell_type": "code",
   "execution_count": 5,
   "metadata": {
    "collapsed": false
   },
   "outputs": [
    {
     "data": {
      "text/plain": [
       "[<matplotlib.lines.Line2D at 0x256ec9d5e10>]"
      ]
     },
     "execution_count": 5,
     "metadata": {},
     "output_type": "execute_result"
    },
    {
     "data": {
      "image/png": "[encoded data removed]",
      "text/plain": [
       "<matplotlib.figure.Figure at 0x256e80d89e8>"
      ]
     },
     "metadata": {},
     "output_type": "display_data"
    }
   ],
   "source": [
    "\n",
    "\"\"\"\n",
    "Running a different number of trees and see the effect\n",
    " of that on the accuracy of the prediction\n",
    "\"\"\"\n",
    "\n",
    "trees=range(25)\n",
    "accuracy=numpy.zeros(25)\n",
    "\n",
    "for idx in range(len(trees)):\n",
    "   classifier=RandomForestClassifier(n_estimators=idx + 1)\n",
    "   classifier=classifier.fit(pred_train,tar_train)\n",
    "   predictions=classifier.predict(pred_test)\n",
    "   accuracy[idx]=sklearn.metrics.accuracy_score(tar_test, predictions)\n",
    "   \n",
    "plt.cla()\n",
    "plt.plot(trees, accuracy)"
   ]
  },
  {
   "cell_type": "code",
   "execution_count": null,
   "metadata": {
    "collapsed": true
   },
   "outputs": [],
   "source": []
  }
 ],
 "metadata": {
  "kernelspec": {
   "display_name": "Python 3",
   "language": "python",
   "name": "python3"
  },
  "language_info": {
   "codemirror_mode": {
    "name": "ipython",
    "version": 3
   },
   "file_extension": ".py",
   "mimetype": "text/x-python",
   "name": "python",
   "nbconvert_exporter": "python",
   "pygments_lexer": "ipython3",
   "version": "3.5.1"
  }
 },
 "nbformat": 4,
 "nbformat_minor": 0
}
