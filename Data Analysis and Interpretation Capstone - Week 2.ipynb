{
 "cells": [
  {
   "cell_type": "markdown",
   "metadata": {},
   "source": [
    "# Predicting the Working Status (functional or not) of Pumps at Waterpoints in Tanzania"
   ]
  },
  {
   "cell_type": "markdown",
   "metadata": {},
   "source": [
    "## Introduction to the Research Question"
   ]
  },
  {
   "cell_type": "markdown",
   "metadata": {},
   "source": [
    "<p>For some communities in Africa, and here more specifically in Tanzania, having a secured access to fresh water is not a given. The number of waterpoints available to these communities is limited, and making sure that the pumps at these waterpoints are functional is critical.</p>\n",
    "<p>The goal of this study is to find an algorithm to identify, or predict, which pumps are likely to be broken. This information is invaluable in order to improve maintenance operations and ensure continuous access to the water.</p>\n",
    "<p>The data set that I will be using for this study is provided by\n",
    "<a href=\"http://taarifa.org/\">Taarifa</a> and the <a href=\"http://maji.go.tz/\">Tanzanian Ministry of Water</a>. In order to be able to predict if a pump at a waterpoint is functional or not, I will need to identify the explanatory variables in the data set that are the most correlated with our response variable which is the pump working status. Some of the predictors that can be envisaged to be useful to predict the working status of a pump are the contruction year, how the waterpoint is managed, the waterpoint location, and many others.</p>"
   ]
  },
  {
   "cell_type": "markdown",
   "metadata": {},
   "source": [
    "## Method"
   ]
  },
  {
   "cell_type": "markdown",
   "metadata": {},
   "source": [
    "### Sample\n",
    "\n",
    "Taarifa is an open source platform for the crowd sourced reporting and triaging of infrastructure related issues.\n",
    "The sample data used comes from the Taarifa waterpoint dashboard, which aggregates data from the Tanzania Ministry of Water. Therefore the data set only contains data for Tanzanian waterpoints.\n",
    "\n",
    "The data provides information on what kind of pump is operating, when it was installed, how it is managed, and other vatiables that can be used to predict the status of pumps at waterpoints. The full data available will be used for this study (sample size: 59400). However some of the variables will not be used if they are not correlated to the response variable."
   ]
  },
  {
   "cell_type": "code",
   "execution_count": 37,
   "metadata": {
    "collapsed": false,
    "scrolled": true
   },
   "outputs": [
    {
     "name": "stdout",
     "output_type": "stream",
     "text": [
      "Number of observations in full data set: 59400\n"
     ]
    }
   ],
   "source": [
    "import pandas\n",
    "\n",
    "trainingData = pandas.read_csv(\"Training Set Values.csv\")\n",
    "#Display the number of observations in the full data set\n",
    "numberOfObservations = len(trainingData)\n",
    "print(\"Number of observations in full data set: \" + str(numberOfObservations))"
   ]
  },
  {
   "cell_type": "markdown",
   "metadata": {},
   "source": [
    "### Measures\n",
    "<p>After looking at the data dictionary some of the variables seem like good candidates (type of pump, water quality...) to predict if a pump is working, need repair, or is not even working.</p>\n",
    "<p>The variable chosen are:</P>\n",
    "* **funder** - Who funded the well\n",
    "* **installer** - Organization that installed the well\n",
    "* **basin** - Geographic water basin\n",
    "* **region** - Geographic location\n",
    "* **population** - Population around the well\n",
    "* **public_meeting** - Indicates if the pump is in a public place :True/False\n",
    "* **scheme_management** - Who operates the waterpoint\n",
    "* **construction_year** - Year the waterpoint was constructed\n",
    "* **extraction_type** - The kind of extraction the waterpoint uses\n",
    "* **extraction_type_group** - The kind of extraction the waterpoint uses\n",
    "* **extraction_type_class** - The kind of extraction the waterpoint uses\n",
    "* **management** - How the waterpoint is managed\n",
    "* **management_group** - How the waterpoint is managed\n",
    "* **water_quality** - The quality of the water\n",
    "* **source** - The source of the water\n",
    "* **waterpoint_type** - The kind of waterpoint\n",
    "* **waterpoint_type_group** - The kind of waterpoint\n"
   ]
  },
  {
   "cell_type": "markdown",
   "metadata": {},
   "source": [
    "The data is provided in two data sets: \"Training Set Values.csv\" and \"Training Set Labels.csv\" that contains the response variable status_group."
   ]
  },
  {
   "cell_type": "code",
   "execution_count": 38,
   "metadata": {
    "collapsed": false
   },
   "outputs": [
    {
     "name": "stdout",
     "output_type": "stream",
     "text": [
      "Number of observations in Training Set Labels.csv: 59400\n"
     ]
    }
   ],
   "source": [
    "responseData = pandas.read_csv(\"Training Set Labels.csv\")\n",
    "print(\"Number of observations in Training Set Labels.csv: \" +\n",
    "      str(len(responseData)))"
   ]
  },
  {
   "cell_type": "markdown",
   "metadata": {},
   "source": [
    "In order to perform some of the analysis, the two data set needs to be joined. This can be done using the id variable available in both data sets."
   ]
  },
  {
   "cell_type": "code",
   "execution_count": 39,
   "metadata": {
    "collapsed": false
   },
   "outputs": [
    {
     "name": "stdout",
     "output_type": "stream",
     "text": [
      "59400\n"
     ]
    }
   ],
   "source": [
    "myData = trainingData.merge(responseData, on='id', how='outer')\n",
    "print(len(myData))"
   ]
  },
  {
   "cell_type": "markdown",
   "metadata": {},
   "source": [
    "### Analysis\n",
    "<p>The first step of the analysis will be to check if the explanatory variable chosen are associated with the response variable.</p>\n",
    "The response variable is categorical, therefore we will use:\n",
    "* Chi Square test of independance if the explanatory variable is categorical\n",
    "* Chi Square test of independance if the explanatory variable is quantitavice, but the explanatory variable will need to be categorized first\n",
    "<p>I will start by testing the public meeting place responce variable."
   ]
  },
  {
   "cell_type": "code",
   "execution_count": 40,
   "metadata": {
    "collapsed": false
   },
   "outputs": [
    {
     "name": "stdout",
     "output_type": "stream",
     "text": [
      "status_group    functional  functional needs repair  non functional\n",
      "public_meeting                                                     \n",
      "False            42.987141                 8.743818       48.269041\n",
      "True             55.689949                 7.290584       37.019466\n",
      "status_group    functional  functional needs repair  non functional\n",
      "public_meeting                                                     \n",
      "False                 2173                      442            2440\n",
      "True                 28408                     3719           18884\n"
     ]
    }
   ],
   "source": [
    "crosstab_pm = pandas.crosstab(myData['public_meeting'], myData['status_group'])\n",
    "print(crosstab_pm.apply(lambda r: r*100/r.sum(), axis=1))\n",
    "print(crosstab_pm)"
   ]
  },
  {
   "cell_type": "markdown",
   "metadata": {},
   "source": [
    "It shows that when the pump is at a public meeting place, 55.6% of the pumps are properly functioning, when only 42.9% are fully functioning when not a public meeting place.\n",
    "Next I will run a Chi Square test of independance to validate if the variables are correlated."
   ]
  }
 ],
 "metadata": {
  "kernelspec": {
   "display_name": "Python 3",
   "language": "python",
   "name": "python3"
  },
  "language_info": {
   "codemirror_mode": {
    "name": "ipython",
    "version": 3
   },
   "file_extension": ".py",
   "mimetype": "text/x-python",
   "name": "python",
   "nbconvert_exporter": "python",
   "pygments_lexer": "ipython3",
   "version": "3.5.1"
  }
 },
 "nbformat": 4,
 "nbformat_minor": 0
}
